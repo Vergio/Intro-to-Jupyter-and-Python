{
 "cells": [
  {
   "cell_type": "markdown",
   "metadata": {},
   "source": [
    "# The basics of Jupyter Notebook... and how to keep it tidy"
   ]
  },
  {
   "cell_type": "markdown",
   "metadata": {},
   "source": [
    "## Import libraries, packages and functions"
   ]
  },
  {
   "cell_type": "code",
   "execution_count": 1,
   "metadata": {},
   "outputs": [
    {
     "name": "stdout",
     "output_type": "stream",
     "text": [
      "/home/cam/Documents/WORK/GitCodes/example_notebook\n"
     ]
    },
    {
     "name": "stderr",
     "output_type": "stream",
     "text": [
      "/home/cam/anaconda2/lib/python2.7/site-packages/h5py/__init__.py:36: FutureWarning: Conversion of the second argument of issubdtype from `float` to `np.floating` is deprecated. In future, it will be treated as `np.float64 == np.dtype(float).type`.\n",
      "  from ._conv import register_converters as _register_converters\n"
     ]
    }
   ],
   "source": [
    "# the basics, necessary to process and plot data\n",
    "import numpy as np\n",
    "import matplotlib.pyplot as plt\n",
    "import h5py # necessary to read h5 files containing data and metadata\n",
    "\n",
    "# make sure that you are in the right working directory\n",
    "import os \n",
    "currentDirectory = os.getcwd()\n",
    "print currentDirectory"
   ]
  },
  {
   "cell_type": "markdown",
   "metadata": {},
   "source": [
    "## Declare your custom functions here"
   ]
  },
  {
   "cell_type": "markdown",
   "metadata": {},
   "source": [
    "def myfunction(x,y):\n",
    "    return x*y\n",
    "    \n",
    "....\n",
    "\n",
    "Note: you can also create an initialisation file with the list of functions and packages (including home-coded functions in separate files) that you want to import. You could name it \"functions.py\" for example. You would then write:\n",
    "\n",
    "from functions import *\n",
    "\n",
    "An example file \"functions.py\" is provided, let's import it:"
   ]
  },
  {
   "cell_type": "code",
   "execution_count": 2,
   "metadata": {},
   "outputs": [
    {
     "name": "stdout",
     "output_type": "stream",
     "text": [
      "test function ok\n"
     ]
    }
   ],
   "source": [
    "from functions import *\n",
    "test()"
   ]
  },
  {
   "cell_type": "markdown",
   "metadata": {},
   "source": [
    "## Good practice..."
   ]
  },
  {
   "cell_type": "markdown",
   "metadata": {},
   "source": [
    "declare global parameters here, such as physical constants, unit conversion factors, laws of physics used, visualisation parameters (colour scheme, graphics, fonts, ...), enable or disable functionalities (for example, if you are going to be printing or plotting intermediate results to assess the quality of the data analysis step by step... that can take up a lot of memory and slow the analysis down, so you may want to disable it easily later on)"
   ]
  },
  {
   "cell_type": "code",
   "execution_count": 3,
   "metadata": {},
   "outputs": [],
   "source": [
    "# examples:\n",
    "\n",
    "sample_name = 'MAPbBr3_single_crystal'\n",
    "\n",
    "#assumption:\n",
    "gravity = 0 #g\n",
    "\n",
    "# constants:\n",
    "planck = 6.62607015*1e-34 #J.s\n",
    "sample_area = 3*1e-2 # m^2\n",
    "objective_NA = 0.95\n",
    "\n",
    "#laws:\n",
    "theta = lambda x, z: np.arctan(np.abs(0.5*x)/float(z))\n",
    "cosine = lambda x : np.cos(x)\n",
    "\n",
    "#parameters:\n",
    "sata_sampling = 1000\n",
    "data_binning = False\n",
    "\n",
    "#visualisation:\n",
    "colour_scheme = 'plasma'\n",
    "display_raw_data = True\n",
    "\n",
    "# etc....\n"
   ]
  },
  {
   "cell_type": "markdown",
   "metadata": {},
   "source": [
    "you can also define all these parameters in a dictionnary in a parameter file, called for example \"params.py\", and read this file directly: \n",
    "\n",
    "from params import parameters"
   ]
  },
  {
   "cell_type": "code",
   "execution_count": 4,
   "metadata": {},
   "outputs": [
    {
     "name": "stdout",
     "output_type": "stream",
     "text": [
      "{'parameter name': 'value'}\n"
     ]
    }
   ],
   "source": [
    "from params import parameters\n",
    "print parameters"
   ]
  },
  {
   "cell_type": "markdown",
   "metadata": {},
   "source": [
    "In general, is it better to create a package to store the files containing your code. For the sake of this example, let's create a package \"codeFiles\". To do that, create a directory named \"codeFiles\" within your working directory (where you notebook file is saved). In this directory, create a file named \"__ init __ .py\". It can be left empty.\n",
    "Then, place in this codeFiles folder your .py files in which you wrote your code.\n",
    "\n",
    "To import your custom package, just type:\n",
    "import codeFiles\n",
    "\n",
    "An example codeFiles package with a startup.py file containing both a list of functions to import and a dictionnary of the parameters used ( and more complex / advanced features) is provided together with this notebook. You could then just write in this notebook:"
   ]
  },
  {
   "cell_type": "code",
   "execution_count": 5,
   "metadata": {
    "scrolled": true
   },
   "outputs": [
    {
     "name": "stdout",
     "output_type": "stream",
     "text": [
      "package codeFiles\n"
     ]
    }
   ],
   "source": [
    "import codeFiles\n",
    "#from codeFiles import startup"
   ]
  },
  {
   "cell_type": "code",
   "execution_count": 6,
   "metadata": {},
   "outputs": [
    {
     "name": "stdout",
     "output_type": "stream",
     "text": [
      "Base modules loaded\n",
      "Parameters loaded\n",
      "\n",
      "Your custom settings:\n",
      "\n",
      "desired repository for file read/write :\n",
      "\n",
      "{   'path': '/home/cam/Documents/WORK/Diffusion project/Diffusion_fiber_scan/',\n",
      "    'subpath': {   '2D crystals': '/home/cam/Documents/WORK/Diffusion project/Diffusion_fiber_scan/2D_crystals/',\n",
      "                   'single crystals': '/home/cam/Documents/WORK/Diffusion project/Diffusion_fiber_scan/single_crystals/'}}\n",
      "\n",
      "your computer information :\n",
      "\n",
      "{   'architecture': ('64bit', ''),\n",
      "    'machine': 'x86_64',\n",
      "    'node': 'CamPad',\n",
      "    'platform': 'Linux-4.15.0-74-generic-x86_64-with-debian-buster-sid',\n",
      "    'processor': 'x86_64',\n",
      "    'python_build': ('default', 'May  1 2018 23:32:55'),\n",
      "    'python_compiler': 'GCC 7.2.0',\n",
      "    'python_implementation': 'CPython',\n",
      "    'python_version': '2.7.15',\n",
      "    'release': '4.15.0-74-generic',\n",
      "    'system': 'Linux',\n",
      "    'uname': (   'Linux',\n",
      "                 'CamPad',\n",
      "                 '4.15.0-74-generic',\n",
      "                 '#84-Ubuntu SMP Thu Dec 19 08:06:28 UTC 2019',\n",
      "                 'x86_64',\n",
      "                 'x86_64'),\n",
      "    'version': '#84-Ubuntu SMP Thu Dec 19 08:06:28 UTC 2019'}\n"
     ]
    }
   ],
   "source": [
    "from codeFiles.startup import *"
   ]
  },
  {
   "cell_type": "code",
   "execution_count": 7,
   "metadata": {},
   "outputs": [
    {
     "data": {
      "text/plain": [
       "{'edge suppression': 10,\n",
       " 'flat limit': 80,\n",
       " 'hidden_peak_slope': [1, 33],\n",
       " 'maxDecory': 10,\n",
       " 'max_nb_of_peaks': 1,\n",
       " 'ordered type': 'linear',\n",
       " 'path': '/home/cam/Documents/WORK/Diffusion project/Diffusion_fiber_scan/',\n",
       " 'peaks min-height': 5,\n",
       " 'poly_order': 3,\n",
       " 'search peak': True,\n",
       " 'search peak finesse': 40,\n",
       " 'subpath': {'2D crystals': '/home/cam/Documents/WORK/Diffusion project/Diffusion_fiber_scan/2D_crystals/',\n",
       "  'single crystals': '/home/cam/Documents/WORK/Diffusion project/Diffusion_fiber_scan/single_crystals/'},\n",
       " 'testing': False,\n",
       " 'validFitting': 5}"
      ]
     },
     "execution_count": 7,
     "metadata": {},
     "output_type": "execute_result"
    }
   ],
   "source": [
    "parameters"
   ]
  },
  {
   "cell_type": "markdown",
   "metadata": {},
   "source": [
    "## Import your data"
   ]
  },
  {
   "cell_type": "markdown",
   "metadata": {},
   "source": [
    "Usually, you'll ask Python to read your data in one or several files and import them into a set of arrays. The best solution here is to write a proper dataImport function in a separate .py file suited for the type and structure of your datafiles. There is no strandard method, it really depends on your needs. The h5 (or hdf5) file format is broadly used, and very convenient. It allows to store metadata (such as lab equipment settings, status and parameters) as well as data arrays in the same file.\n",
    "\n",
    "Use this line of code to import your data and metadata, and then explore their content the way you want:\n",
    "\n",
    "dat = h5py.File(filename, 'r')\n",
    "\n",
    "(note: here in the future I'll try to give an example of h5 file exploration step by step...)"
   ]
  },
  {
   "cell_type": "markdown",
   "metadata": {},
   "source": [
    "## Data processing"
   ]
  },
  {
   "cell_type": "markdown",
   "metadata": {},
   "source": [
    "Now that your notebook environment is all set, you can use pre-existing functions from python libraries and your custom functions (code written above or in separate files, which is more tidy and easier to troubleshoot) to do your data processing."
   ]
  },
  {
   "cell_type": "markdown",
   "metadata": {},
   "source": [
    "## Visualisation"
   ]
  },
  {
   "cell_type": "markdown",
   "metadata": {},
   "source": [
    "Let's plot a simple function over a given interval"
   ]
  },
  {
   "cell_type": "code",
   "execution_count": 8,
   "metadata": {},
   "outputs": [
    {
     "data": {
      "text/plain": [
       "Text(0,0.5,'cos(x)')"
      ]
     },
     "execution_count": 8,
     "metadata": {},
     "output_type": "execute_result"
    },
    {
     "data": {
      "image/png": "[encoded data removed]",
      "text/plain": [
       "<Figure size 432x288 with 1 Axes>"
      ]
     },
     "metadata": {},
     "output_type": "display_data"
    }
   ],
   "source": [
    "# use the function 'cosine' defined earlier\n",
    "\n",
    "# define the interval:\n",
    "x_values = np.linspace(0,10,50)\n",
    "\n",
    "# evaluate the function on this interval:\n",
    "y_values = map(cosine, x_values)\n",
    "\n",
    "# plot\n",
    "plt.plot(x_values, y_values)\n",
    "# add label names:\n",
    "plt.xlabel('x')\n",
    "plt.ylabel('cos(x)')"
   ]
  },
  {
   "cell_type": "markdown",
   "metadata": {},
   "source": [
    "What about 2D plots?"
   ]
  },
  {
   "cell_type": "code",
   "execution_count": 9,
   "metadata": {},
   "outputs": [
    {
     "data": {
      "text/plain": [
       "<matplotlib.image.AxesImage at 0x7f1b5b015450>"
      ]
     },
     "execution_count": 9,
     "metadata": {},
     "output_type": "execute_result"
    },
    {
     "data": {
      "image/png": "[encoded data removed]",
      "text/plain": [
       "<Figure size 432x288 with 1 Axes>"
      ]
     },
     "metadata": {},
     "output_type": "display_data"
    }
   ],
   "source": [
    "# generate random 2D array of size 50:\n",
    "N = 50\n",
    "array = np.random.random((N,N))\n",
    "\n",
    "# plot the 2D array:\n",
    "plt.imshow(array)"
   ]
  },
  {
   "cell_type": "code",
   "execution_count": null,
   "metadata": {},
   "outputs": [],
   "source": []
  }
 ],
 "metadata": {
  "kernelspec": {
   "display_name": "Python 2",
   "language": "python",
   "name": "python2"
  },
  "language_info": {
   "codemirror_mode": {
    "name": "ipython",
    "version": 2
   },
   "file_extension": ".py",
   "mimetype": "text/x-python",
   "name": "python",
   "nbconvert_exporter": "python",
   "pygments_lexer": "ipython2",
   "version": "2.7.15"
  }
 },
 "nbformat": 4,
 "nbformat_minor": 2
}
